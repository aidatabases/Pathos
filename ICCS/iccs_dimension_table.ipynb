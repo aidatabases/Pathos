{
 "cells": [
  {
   "cell_type": "code",
   "execution_count": 1,
   "metadata": {},
   "outputs": [],
   "source": [
    "from pathos_config import *"
   ]
  },
  {
   "cell_type": "code",
   "execution_count": 2,
   "metadata": {},
   "outputs": [],
   "source": [
    "current_schema = 'pathos_iccs_schema_test2'"
   ]
  },
  {
   "cell_type": "markdown",
   "metadata": {},
   "source": [
    "# Query from Google Sheet"
   ]
  },
  {
   "cell_type": "markdown",
   "metadata": {},
   "source": [
    "## Dimension google sheet"
   ]
  },
  {
   "cell_type": "code",
   "execution_count": 3,
   "metadata": {
    "scrolled": true
   },
   "outputs": [
    {
     "name": "stdout",
     "output_type": "stream",
     "text": [
      "Reference DataFrame: pathos_cl_master_dim_mapping\n",
      "Reference DataFrame: pathos_cl_master_time\n",
      "Reference DataFrame: pathos_cl_master_time_new\n",
      "Reference DataFrame: pathos_cl_master_prod_serv_cf7\n",
      "Reference DataFrame: pathos_cl_master_prod_serv_cf8\n",
      "Reference DataFrame: pathos_cl_master_prod_serv_cf20\n",
      "Reference DataFrame: pathos_cl_master_prod_ver\n",
      "Reference DataFrame: pathos_cl_master_channel\n",
      "Reference DataFrame: pathos_cl_master_age\n",
      "Reference DataFrame: pathos_cl_master_gender\n",
      "Reference DataFrame: pathos_cl_master_income\n",
      "Reference DataFrame: pathos_cl_master_occupation\n",
      "Reference DataFrame: pathos_cl_master_education\n",
      "Reference DataFrame: pathos_cl_master_country\n",
      "Reference DataFrame: pathos_cl_master_personas\n"
     ]
    }
   ],
   "source": [
    "for i in range(len(dim_table_list_iccs)):\n",
    "    sample_var1 = dim_table_list_iccs[i]\n",
    "    sample_var2 = dim_table_list_iccs[i]\n",
    "    print(\"Reference DataFrame: {}\".format(sample_var1, sample_var2))\n",
    "    vars()[sample_var2]= load_gsheet(dim_table_list_iccs[i], dim_table_list_iccs[i], sheet_id_iccs)"
   ]
  },
  {
   "cell_type": "markdown",
   "metadata": {},
   "source": [
    "# Pushing (All Dimension + Reference + RB_Final_File_Model_Processed) DATA to postgres"
   ]
  },
  {
   "cell_type": "markdown",
   "metadata": {},
   "source": [
    "## Dimension tables"
   ]
  },
  {
   "cell_type": "code",
   "execution_count": 6,
   "metadata": {},
   "outputs": [
    {
     "name": "stdout",
     "output_type": "stream",
     "text": [
      "pathos_cl_master_dim_mapping\n",
      "pathos_cl_master_time\n",
      "pathos_cl_master_time_new\n",
      "pathos_cl_master_prod_serv_cf7\n",
      "pathos_cl_master_prod_serv_cf8\n",
      "pathos_cl_master_prod_serv_cf20\n",
      "pathos_cl_master_prod_ver\n",
      "pathos_cl_master_channel\n",
      "pathos_cl_master_age\n",
      "pathos_cl_master_gender\n",
      "pathos_cl_master_income\n",
      "pathos_cl_master_occupation\n",
      "pathos_cl_master_education\n",
      "pathos_cl_master_country\n",
      "pathos_cl_master_personas\n"
     ]
    }
   ],
   "source": [
    "# Truncate\n",
    "try:\n",
    "    for i in dim_table_list_iccs:\n",
    "        truncate_table(i, current_schema)\n",
    "        print(i)\n",
    "except:\n",
    "    print('not available:{}'.format(i))"
   ]
  },
  {
   "cell_type": "code",
   "execution_count": 7,
   "metadata": {
    "scrolled": false
   },
   "outputs": [
    {
     "name": "stdout",
     "output_type": "stream",
     "text": [
      "pathos_cl_master_dim_mapping\n",
      "pathos_cl_master_time\n",
      "pathos_cl_master_time_new\n",
      "pathos_cl_master_prod_serv_cf7\n",
      "pathos_cl_master_prod_serv_cf8\n",
      "pathos_cl_master_prod_serv_cf20\n",
      "pathos_cl_master_prod_ver\n",
      "pathos_cl_master_channel\n",
      "pathos_cl_master_age\n",
      "pathos_cl_master_gender\n",
      "pathos_cl_master_income\n",
      "pathos_cl_master_occupation\n",
      "pathos_cl_master_education\n",
      "pathos_cl_master_country\n",
      "pathos_cl_master_personas\n"
     ]
    }
   ],
   "source": [
    "# Pushing\n",
    "for i, j in zip(range(len(dim_table_list_iccs)), dim_table_list_iccs):\n",
    "    sample_var = dim_table_list_iccs[i]\n",
    "    print(sample_var)\n",
    "    push_table_pgres(df = vars()[sample_var],df_name = j, schema= current_schema)"
   ]
  },
  {
   "cell_type": "code",
   "execution_count": null,
   "metadata": {},
   "outputs": [],
   "source": [
    "-x-x-x-x-x-x-x-x-x-x-x-x-x-x-x-x-x-x-x-x-x"
   ]
  }
 ],
 "metadata": {
  "kernelspec": {
   "display_name": "Python 3",
   "language": "python",
   "name": "python3"
  },
  "language_info": {
   "codemirror_mode": {
    "name": "ipython",
    "version": 3
   },
   "file_extension": ".py",
   "mimetype": "text/x-python",
   "name": "python",
   "nbconvert_exporter": "python",
   "pygments_lexer": "ipython3",
   "version": "3.8.5"
  },
  "toc": {
   "base_numbering": 1,
   "nav_menu": {},
   "number_sections": true,
   "sideBar": true,
   "skip_h1_title": false,
   "title_cell": "Table of Contents",
   "title_sidebar": "Contents",
   "toc_cell": false,
   "toc_position": {},
   "toc_section_display": true,
   "toc_window_display": false
  }
 },
 "nbformat": 4,
 "nbformat_minor": 4
}
