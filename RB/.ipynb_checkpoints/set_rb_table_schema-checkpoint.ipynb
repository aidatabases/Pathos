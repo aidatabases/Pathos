{
 "cells": [
  {
   "cell_type": "code",
   "execution_count": 1,
   "metadata": {},
   "outputs": [],
   "source": [
    "from pathos_config import *"
   ]
  },
  {
   "cell_type": "markdown",
   "metadata": {},
   "source": [
    "# Loading Schemas"
   ]
  },
  {
   "cell_type": "code",
   "execution_count": 2,
   "metadata": {},
   "outputs": [
    {
     "data": {
      "text/plain": [
       "<sqlalchemy.engine.result.ResultProxy at 0x127b0cd8640>"
      ]
     },
     "execution_count": 2,
     "metadata": {},
     "output_type": "execute_result"
    }
   ],
   "source": [
    "schema_final_string='''create SCHEMA IF NOT EXISTS pathos_rb_schema;\n",
    "'''   \n",
    "engine.execute(schema_final_string)"
   ]
  },
  {
   "cell_type": "markdown",
   "metadata": {},
   "source": [
    "# Dimension Schema"
   ]
  },
  {
   "cell_type": "markdown",
   "metadata": {},
   "source": [
    "## PATHOS_CL_MASTER_DIM_MAPPING"
   ]
  },
  {
   "cell_type": "code",
   "execution_count": 3,
   "metadata": {},
   "outputs": [
    {
     "data": {
      "text/plain": [
       "<sqlalchemy.engine.result.ResultProxy at 0x127b0cd8850>"
      ]
     },
     "execution_count": 3,
     "metadata": {},
     "output_type": "execute_result"
    }
   ],
   "source": [
    "schema_final_string='''create table  IF NOT EXISTS pathos_rb_schema.PATHOS_CL_MASTER_DIM_MAPPING(\n",
    "\t\tDIMENSION_ID \t\t\t\t\tNUMERIC \t\t\t\t\tPRIMARY KEY,\n",
    "\t\tDIMENSION_CODE\t\t\t\t\tVARCHAR(100) \t\t\t\tUNIQUE NOT NULL,\t\n",
    "\t\tDIMENSION_DESC\t\t\t\t\tVARCHAR(100) \t\t\t\t,\t\n",
    "\t\tDIM_ACTIVE_REPORTING\t\t\tCHAR(1) \t\t\t\t\tNOT NULL,\t\n",
    "\t\tDIM_USE_FOR_SUMMARY\t\t\t\tCHAR(1) \t\t\t\t\tNOT NULL,\t\t\n",
    "\t\tDIM_SEQUENCE\t\t\t\t\tNUMERIC\t\t\t\t\t\tNOT NULL,\t\t\t\n",
    "\t\tDIMENSION_DATA_TABLE\t\t\tVARCHAR(100) \t\t\t\tUNIQUE NOT NULL,\t\t\t\t\n",
    "\t\tDIM_SQL\t\t\t\t\t\t\tTEXT,\t\n",
    "\t\tCREATED_ON \tTIMESTAMP WITH TIME ZONE \tDEFAULT CURRENT_TIMESTAMP NOT NULL,\n",
    "\t\tCREATED_BY \tVARCHAR(100)\t\t\t\tNOT NULL DEFAULT 'System',\n",
    "\t\tUPDATED_ON \tTIMESTAMP WITH TIME ZONE \tDEFAULT CURRENT_TIMESTAMP NOT NULL,\n",
    "\t\tUPDATED_BY \tVARCHAR(100)\t\t\t\tNOT NULL DEFAULT 'System'\n",
    ");\n",
    "''' \n",
    "    \n",
    "engine.execute(schema_final_string)"
   ]
  },
  {
   "cell_type": "markdown",
   "metadata": {},
   "source": [
    "## Brand Dimension"
   ]
  },
  {
   "cell_type": "code",
   "execution_count": 4,
   "metadata": {},
   "outputs": [
    {
     "data": {
      "text/plain": [
       "<sqlalchemy.engine.result.ResultProxy at 0x127b33e5130>"
      ]
     },
     "execution_count": 4,
     "metadata": {},
     "output_type": "execute_result"
    }
   ],
   "source": [
    "schema_final_string='''create table  IF NOT EXISTS pathos_rb_schema.PATHOS_CL_MASTER_BRAND(\n",
    "\t\tDIM_VAL_ID \t\t\t\t\tNUMERIC \t\t\t\t\t\tPRIMARY KEY,\n",
    "\t\tDIM_VALUE_NAME\t\t\t\t\tVARCHAR(100) \t\t\t\tUNIQUE NOT NULL,\t\n",
    "\t\tDIM_VALUE_DESC\t\t\t\t\tVARCHAR(100) \t\t\t\t,\t\n",
    "\t\tDIM_ACTIVE_REPORTING\t\t\tCHAR(1) \t\t\t\t\tNOT NULL,\t\n",
    "\t\tDIM_ACTIVE_PROCESSSING\t\t\tCHAR(1) \t\t\t\t\t,\t\t\n",
    "\t\tCHILD_RECORD\t\t\t\t\tCHAR(1) \t\t\t\t\t,\t\t\n",
    "\t\tPARENT_RECORD_ID \t\t\t\tNUMERIC\t\t\t\t\t\tDEFAULT NULL, \t\t\t\n",
    "\t\tHIERARCHY_LEVEL\t\t\t\t\tNUMERIC\t\t\t\t\t\tNOT NULL,\t\t\t\n",
    "\t\tCREATED_ON \tTIMESTAMP WITH TIME ZONE \tNOT NULL DEFAULT NOW(),\n",
    "\t\tCREATED_BY \tVARCHAR(100)\t\t\t\tNOT NULL DEFAULT 'System',\n",
    "\t\tUPDATED_ON \tTIMESTAMP WITH TIME ZONE \tNOT NULL DEFAULT NOW(),\n",
    "\t\tUPDATED_BY \tVARCHAR(100)\t\t\t\tNOT NULL DEFAULT 'System'\n",
    ");\n",
    "''' \n",
    "    \n",
    "engine.execute(schema_final_string)"
   ]
  },
  {
   "cell_type": "markdown",
   "metadata": {},
   "source": [
    "## Manufacturer dim"
   ]
  },
  {
   "cell_type": "code",
   "execution_count": 5,
   "metadata": {},
   "outputs": [
    {
     "data": {
      "text/plain": [
       "<sqlalchemy.engine.result.ResultProxy at 0x127b33dc7f0>"
      ]
     },
     "execution_count": 5,
     "metadata": {},
     "output_type": "execute_result"
    }
   ],
   "source": [
    "schema_final_string='''create table  IF NOT EXISTS pathos_rb_schema.PATHOS_CL_MASTER_MANUFACTURER(\n",
    "\t\tDIM_VAL_ID \t\t\t\t\tNUMERIC \t\t\t\t\t\tPRIMARY KEY,\n",
    "\t\tDIM_VALUE_NAME\t\t\t\t\tVARCHAR(100) \t\t\t\tUNIQUE NOT NULL,\t\n",
    "\t\tDIM_VALUE_DESC\t\t\t\t\tVARCHAR(100) \t\t\t\t,\t\n",
    "\t\tDIM_ACTIVE_REPORTING\t\t\tCHAR(1) \t\t\t\t\tNOT NULL,\t\n",
    "\t\tDIM_ACTIVE_PROCESSSING\t\t\tCHAR(1) \t\t\t\t\t,\t\t\n",
    "\t\tCHILD_RECORD\t\t\t\t\tCHAR(1) \t\t\t\t\t,\t\t\n",
    "\t\tPARENT_RECORD_ID \t\t\t\tNUMERIC\t\t\t\t\t\tDEFAULT NULL, \t\t\t\n",
    "\t\tHIERARCHY_LEVEL\t\t\t\t\tNUMERIC\t\t\t\t\t\tNOT NULL,\t\t\t\n",
    "\t\tCREATED_ON \tTIMESTAMP WITH TIME ZONE \tNOT NULL DEFAULT NOW(),\n",
    "\t\tCREATED_BY \tVARCHAR(100)\t\t\t\tNOT NULL DEFAULT 'System',\n",
    "\t\tUPDATED_ON \tTIMESTAMP WITH TIME ZONE \tNOT NULL DEFAULT NOW(),\n",
    "\t\tUPDATED_BY \tVARCHAR(100)\t\t\t\tNOT NULL DEFAULT 'System'\n",
    ");\n",
    "''' \n",
    "    \n",
    "engine.execute(schema_final_string)"
   ]
  },
  {
   "cell_type": "markdown",
   "metadata": {},
   "source": [
    "## Pathos Version Dimension"
   ]
  },
  {
   "cell_type": "code",
   "execution_count": 6,
   "metadata": {},
   "outputs": [
    {
     "data": {
      "text/plain": [
       "<sqlalchemy.engine.result.ResultProxy at 0x127b33f5a30>"
      ]
     },
     "execution_count": 6,
     "metadata": {},
     "output_type": "execute_result"
    }
   ],
   "source": [
    "schema_final_string='''create table  IF NOT EXISTS pathos_rb_schema.pathos_cl_master_prod_ver(\n",
    "\t\tpathos_ref_prd_rel_unique_id \t\t\t\t\tNUMERIC \t\t\t\t\t\tPRIMARY KEY,\n",
    "\t\tpathos_product_version\t\t\t\t\tTEXT \t\t\t\tUNIQUE NOT NULL,\t\n",
    "\t\tproduct_release_name\t\t\t\t\tTEXT \t\t\t\t,\t\n",
    "\t\tml_model_version\t\t\tTEXT \t\t\t\t\t,\t\n",
    "\t\temotions_model_version\t\t\tTEXT\t\t\t\t\t,\t\t\n",
    "\t\tdrivers_model_version\t\t\t\t\tTEXT \t\t\t\t\t,\t\t\n",
    "\t\tcontext_model_version \t\t\t\tTEXT\t\t\t\t\t\t, \t\t\t\n",
    "\t\tdim_active_reporting\t\t\t\t\tCHAR(1)\t\t\t\t\t\t,\t\t\t\n",
    "        dim_active_processsing CHAR(1),\n",
    "        description TEXT,\n",
    "\t\tCREATED_ON \tTIMESTAMP WITH TIME ZONE \tDEFAULT CURRENT_TIMESTAMP NOT NULL,\n",
    "\t\tCREATED_BY \tVARCHAR(100)\t\t\t\tNOT NULL DEFAULT 'System',\n",
    "\t\tUPDATED_ON \tTIMESTAMP WITH TIME ZONE \tDEFAULT CURRENT_TIMESTAMP NOT NULL,\n",
    "\t\tUPDATED_BY \tVARCHAR(100)\t\t\t\tNOT NULL DEFAULT 'System'\n",
    ");\n",
    "''' \n",
    "    \n",
    "engine.execute(schema_final_string)"
   ]
  },
  {
   "cell_type": "markdown",
   "metadata": {},
   "source": [
    "## PATHOS_CL_MASTER_TIME"
   ]
  },
  {
   "cell_type": "code",
   "execution_count": 7,
   "metadata": {},
   "outputs": [
    {
     "data": {
      "text/plain": [
       "<sqlalchemy.engine.result.ResultProxy at 0x127b0cd8550>"
      ]
     },
     "execution_count": 7,
     "metadata": {},
     "output_type": "execute_result"
    }
   ],
   "source": [
    "schema_final_string='''create table  IF NOT EXISTS pathos_rb_schema.PATHOS_CL_MASTER_TIME(\n",
    "\t\tDIM_VAL_ID \t\t\t\t\tNUMERIC \t\t\t\t\t\tPRIMARY KEY,\n",
    "\t\tDIM_VALUE_NAME\t\t\t\t\tVARCHAR(100) \t\t\t\tUNIQUE NOT NULL,\t\n",
    "\t\tDIM_VALUE_DESC\t\t\t\t\tVARCHAR(100) \t\t\t\t,\t\n",
    "\t\tDIM_ACTIVE_REPORTING\t\t\tCHAR(1) \t\t\t\t\tNOT NULL,\t\n",
    "\t\tDIM_ACTIVE_PROCESSSING\t\t\tCHAR(1) \t\t\t\t\t,\t\t\n",
    "\t\tCHILD_RECORD\t\t\t\t\tCHAR(1) \t\t\t\t\t,\t\t\n",
    "\t\tPARENT_RECORD_ID \t\t\t\tNUMERIC\t\t\t\t\t\tDEFAULT NULL, \t\t\t\n",
    "\t\tHIERARCHY_LEVEL\t\t\t\t\tNUMERIC\t\t\t\t\t\tNOT NULL,\t\t\t\n",
    "\t\tCREATED_ON \tTIMESTAMP WITH TIME ZONE \tDEFAULT CURRENT_TIMESTAMP NOT NULL,\n",
    "\t\tCREATED_BY \tVARCHAR(100)\t\t\t\tNOT NULL DEFAULT 'System',\n",
    "\t\tUPDATED_ON \tTIMESTAMP WITH TIME ZONE \tDEFAULT CURRENT_TIMESTAMP NOT NULL,\n",
    "\t\tUPDATED_BY \tVARCHAR(100)\t\t\t\tNOT NULL DEFAULT 'System'\n",
    ");\n",
    "''' \n",
    "    \n",
    "engine.execute(schema_final_string)"
   ]
  },
  {
   "cell_type": "markdown",
   "metadata": {},
   "source": [
    "## PATHOS_CL_MASTER_PRODUCT"
   ]
  },
  {
   "cell_type": "code",
   "execution_count": 8,
   "metadata": {},
   "outputs": [
    {
     "data": {
      "text/plain": [
       "<sqlalchemy.engine.result.ResultProxy at 0x127b0cd8790>"
      ]
     },
     "execution_count": 8,
     "metadata": {},
     "output_type": "execute_result"
    }
   ],
   "source": [
    "schema_final_string='''create table  IF NOT EXISTS pathos_rb_schema.PATHOS_CL_MASTER_PRODUCT(\n",
    "\t\tDIM_VAL_ID \t\t\t\t\tNUMERIC \t\t\t\t\t\tPRIMARY KEY,\n",
    "\t\tDIM_VALUE_NAME\t\t\t\t\tVARCHAR(100) \t\t\t\tUNIQUE NOT NULL,\t\n",
    "\t\tDIM_VALUE_DESC\t\t\t\t\tVARCHAR(100) \t\t\t\t,\t\n",
    "\t\tDIM_ACTIVE_REPORTING\t\t\tCHAR(1) \t\t\t\t\tNOT NULL,\t\n",
    "\t\tDIM_ACTIVE_PROCESSSING\t\t\tCHAR(1) \t\t\t\t\t,\t\t\n",
    "\t\tCHILD_RECORD\t\t\t\t\tCHAR(1) \t\t\t\t\t,\t\t\n",
    "\t\tPARENT_RECORD_ID \t\t\t\tNUMERIC\t\t\t\t\t\tDEFAULT NULL, \t\t\t\n",
    "\t\tHIERARCHY_LEVEL\t\t\t\t\tNUMERIC\t\t\t\t\t\tNOT NULL,\t\t\t\n",
    "\t\tCREATED_ON \tTIMESTAMP WITH TIME ZONE \tDEFAULT CURRENT_TIMESTAMP NOT NULL,\n",
    "\t\tCREATED_BY \tVARCHAR(100)\t\t\t\tNOT NULL DEFAULT 'System',\n",
    "\t\tUPDATED_ON \tTIMESTAMP WITH TIME ZONE \tDEFAULT CURRENT_TIMESTAMP NOT NULL,\n",
    "\t\tUPDATED_BY \tVARCHAR(100)\t\t\t\tNOT NULL DEFAULT 'System'\n",
    ");\n",
    "''' \n",
    "    \n",
    "engine.execute(schema_final_string)"
   ]
  },
  {
   "cell_type": "markdown",
   "metadata": {},
   "source": [
    "## PATHOS_CL_MASTER_GMO"
   ]
  },
  {
   "cell_type": "code",
   "execution_count": 9,
   "metadata": {},
   "outputs": [
    {
     "data": {
      "text/plain": [
       "<sqlalchemy.engine.result.ResultProxy at 0x127b0cd2430>"
      ]
     },
     "execution_count": 9,
     "metadata": {},
     "output_type": "execute_result"
    }
   ],
   "source": [
    "schema_final_string='''create table  IF NOT EXISTS pathos_rb_schema.PATHOS_CL_MASTER_GMO(\n",
    "\t\tDIM_VAL_ID \t\t\t\t\tNUMERIC \t\t\t\t\t\tPRIMARY KEY,\n",
    "\t\tDIM_VALUE_NAME\t\t\t\t\tVARCHAR(100) \t\t\t\tUNIQUE NOT NULL,\t\n",
    "\t\tDIM_VALUE_DESC\t\t\t\t\tVARCHAR(100) \t\t\t\t,\t\n",
    "\t\tDIM_ACTIVE_REPORTING\t\t\tCHAR(1) \t\t\t\t\tNOT NULL,\t\n",
    "\t\tDIM_ACTIVE_PROCESSSING\t\t\tCHAR(1) \t\t\t\t\t,\t\t\n",
    "\t\tCHILD_RECORD\t\t\t\t\tCHAR(1) \t\t\t\t\t,\t\t\n",
    "\t\tPARENT_RECORD_ID \t\t\t\tNUMERIC\t\t\t\t\t\tDEFAULT NULL, \t\t\t\n",
    "\t\tHIERARCHY_LEVEL\t\t\t\t\tNUMERIC\t\t\t\t\t\tNOT NULL,\t\t\t\n",
    "\t\tCREATED_ON \tTIMESTAMP WITH TIME ZONE \tDEFAULT CURRENT_TIMESTAMP NOT NULL,\n",
    "\t\tCREATED_BY \tVARCHAR(100)\t\t\t\tNOT NULL DEFAULT 'System',\n",
    "\t\tUPDATED_ON \tTIMESTAMP WITH TIME ZONE \tDEFAULT CURRENT_TIMESTAMP NOT NULL,\n",
    "\t\tUPDATED_BY \tVARCHAR(100)\t\t\t\tNOT NULL DEFAULT 'System'\n",
    ");\n",
    "''' \n",
    "    \n",
    "engine.execute(schema_final_string)"
   ]
  },
  {
   "cell_type": "markdown",
   "metadata": {},
   "source": [
    "## PATHOS_CL_MASTER_SOURCE"
   ]
  },
  {
   "cell_type": "code",
   "execution_count": 10,
   "metadata": {},
   "outputs": [
    {
     "data": {
      "text/plain": [
       "<sqlalchemy.engine.result.ResultProxy at 0x127b0ccb1f0>"
      ]
     },
     "execution_count": 10,
     "metadata": {},
     "output_type": "execute_result"
    }
   ],
   "source": [
    "schema_final_string='''create table  IF NOT EXISTS pathos_rb_schema.PATHOS_CL_MASTER_SOURCE(\n",
    "\t\tDIM_VAL_ID \t\t\t\t\tNUMERIC \t\t\t\t\t\tPRIMARY KEY,\n",
    "\t\tDIM_VALUE_NAME\t\t\t\t\tVARCHAR(100) \t\t\t\tUNIQUE NOT NULL,\t\n",
    "\t\tDIM_VALUE_DESC\t\t\t\t\tVARCHAR(100) \t\t\t\t,\t\n",
    "\t\tDIM_ACTIVE_REPORTING\t\t\tCHAR(1) \t\t\t\t\tNOT NULL,\t\n",
    "\t\tDIM_ACTIVE_PROCESSSING\t\t\tCHAR(1) \t\t\t\t\t,\t\t\n",
    "\t\tCHILD_RECORD\t\t\t\t\tCHAR(1) \t\t\t\t\t,\t\t\n",
    "\t\tPARENT_RECORD_ID \t\t\t\tNUMERIC\t\t\t\t\t\tDEFAULT NULL, \t\t\t\n",
    "\t\tHIERARCHY_LEVEL\t\t\t\t\tNUMERIC\t\t\t\t\t\tNOT NULL,\t\t\t\n",
    "\t\tCREATED_ON \tTIMESTAMP WITH TIME ZONE \tDEFAULT CURRENT_TIMESTAMP NOT NULL,\n",
    "\t\tCREATED_BY \tVARCHAR(100)\t\t\t\tNOT NULL DEFAULT 'System',\n",
    "\t\tUPDATED_ON \tTIMESTAMP WITH TIME ZONE \tDEFAULT CURRENT_TIMESTAMP NOT NULL,\n",
    "\t\tUPDATED_BY \tVARCHAR(100)\t\t\t\tNOT NULL DEFAULT 'System'\n",
    ");\n",
    "''' \n",
    "    \n",
    "engine.execute(schema_final_string)"
   ]
  },
  {
   "cell_type": "markdown",
   "metadata": {},
   "source": [
    "## PATHOS_CL_MASTER_COUNTRY"
   ]
  },
  {
   "cell_type": "code",
   "execution_count": 11,
   "metadata": {},
   "outputs": [
    {
     "data": {
      "text/plain": [
       "<sqlalchemy.engine.result.ResultProxy at 0x127b33dcf70>"
      ]
     },
     "execution_count": 11,
     "metadata": {},
     "output_type": "execute_result"
    }
   ],
   "source": [
    "schema_final_string='''create table  IF NOT EXISTS pathos_rb_schema.PATHOS_CL_MASTER_COUNTRY(\n",
    "\t\tDIM_VAL_ID \t\t\t\t\tNUMERIC \t\t\t\t\t\tPRIMARY KEY,\n",
    "\t\tDIM_VALUE_NAME\t\t\t\t\tVARCHAR(100) \t\t\t\tUNIQUE NOT NULL,\t\n",
    "\t\tDIM_VALUE_DESC\t\t\t\t\tVARCHAR(100) \t\t\t\t,\t\n",
    "\t\tDIM_ACTIVE_REPORTING\t\t\tCHAR(1) \t\t\t\t\tNOT NULL,\t\n",
    "\t\tDIM_ACTIVE_PROCESSSING\t\t\tCHAR(1) \t\t\t\t\t,\t\t\n",
    "\t\tCHILD_RECORD\t\t\t\t\tCHAR(1) \t\t\t\t\t,\t\t\n",
    "\t\tPARENT_RECORD_ID \t\t\t\tNUMERIC\t\t\t\t\t\tDEFAULT NULL, \t\t\t\n",
    "\t\tHIERARCHY_LEVEL\t\t\t\t\tNUMERIC\t\t\t\t\t\tNOT NULL,\t\t\t\n",
    "\t\tCREATED_ON \tTIMESTAMP WITH TIME ZONE \tDEFAULT CURRENT_TIMESTAMP NOT NULL,\n",
    "\t\tCREATED_BY \tVARCHAR(100)\t\t\t\tNOT NULL DEFAULT 'System',\n",
    "\t\tUPDATED_ON \tTIMESTAMP WITH TIME ZONE \tDEFAULT CURRENT_TIMESTAMP NOT NULL,\n",
    "\t\tUPDATED_BY \tVARCHAR(100)\t\t\t\tNOT NULL DEFAULT 'System'\n",
    ");\n",
    "''' \n",
    "    \n",
    "engine.execute(schema_final_string)"
   ]
  },
  {
   "cell_type": "markdown",
   "metadata": {},
   "source": [
    "## PATHOS_CL_MASTER_CHANNEL"
   ]
  },
  {
   "cell_type": "code",
   "execution_count": 12,
   "metadata": {},
   "outputs": [
    {
     "data": {
      "text/plain": [
       "<sqlalchemy.engine.result.ResultProxy at 0x127b0cd8700>"
      ]
     },
     "execution_count": 12,
     "metadata": {},
     "output_type": "execute_result"
    }
   ],
   "source": [
    "schema_final_string='''create table  IF NOT EXISTS pathos_rb_schema.PATHOS_CL_MASTER_CHANNEL(\n",
    "\t\tDIM_VAL_ID \t\t\t\t\tNUMERIC \t\t\t\t\t\tPRIMARY KEY,\n",
    "\t\tDIM_VALUE_NAME\t\t\t\t\tVARCHAR(100) \t\t\t\tUNIQUE NOT NULL,\t\n",
    "\t\tDIM_VALUE_DESC\t\t\t\t\tVARCHAR(100) \t\t\t\t,\t\n",
    "\t\tDIM_ACTIVE_REPORTING\t\t\tCHAR(1) \t\t\t\t\tNOT NULL,\t\n",
    "\t\tDIM_ACTIVE_PROCESSSING\t\t\tCHAR(1) \t\t\t\t\t,\t\t\n",
    "\t\tCHILD_RECORD\t\t\t\t\tCHAR(1) \t\t\t\t\t,\t\t\n",
    "\t\tPARENT_RECORD_ID \t\t\t\tNUMERIC\t\t\t\t\t\tDEFAULT NULL, \t\t\t\n",
    "\t\tHIERARCHY_LEVEL\t\t\t\t\tNUMERIC\t\t\t\t\t\tNOT NULL,\t\t\t\n",
    "\t\tCREATED_ON \tTIMESTAMP WITH TIME ZONE \tDEFAULT CURRENT_TIMESTAMP NOT NULL,\n",
    "\t\tCREATED_BY \tVARCHAR(100)\t\t\t\tNOT NULL DEFAULT 'System',\n",
    "\t\tUPDATED_ON \tTIMESTAMP WITH TIME ZONE \tDEFAULT CURRENT_TIMESTAMP NOT NULL,\n",
    "\t\tUPDATED_BY \tVARCHAR(100)\t\t\t\tNOT NULL DEFAULT 'System'\n",
    ");\n",
    "''' \n",
    "    \n",
    "engine.execute(schema_final_string)"
   ]
  },
  {
   "cell_type": "markdown",
   "metadata": {},
   "source": [
    "## pathos_cl_master_personas"
   ]
  },
  {
   "cell_type": "code",
   "execution_count": 13,
   "metadata": {},
   "outputs": [
    {
     "data": {
      "text/plain": [
       "<sqlalchemy.engine.result.ResultProxy at 0x127b340ff40>"
      ]
     },
     "execution_count": 13,
     "metadata": {},
     "output_type": "execute_result"
    }
   ],
   "source": [
    "schema_final_string='''create table  IF NOT EXISTS pathos_rb_schema.pathos_cl_master_personas(\n",
    "\t\tPERSONA_ID \t\t\t\t\tNUMERIC \t\t\t\t\t\tPRIMARY KEY,\n",
    "\t\tPERSONA_NAME\t\t\t\t\tVARCHAR(100) \t\t\t\tUNIQUE NOT NULL,\t\n",
    "\t\tPERSONA\t\t\t\t\tVARCHAR(100) \t\t\t\tUNIQUE NOT NULL,\n",
    "\t\tVERSION_ID\t\t\t\t\tVARCHAR(100) \t\t\t\t,\t\n",
    "\t\tBRAND_ID\t\t\tVARCHAR(100) \t\t\t\t\t,\t\n",
    "\t\tMANUFACTURER_ID\t\t\tVARCHAR(100) \t\t\t\t\t,\n",
    "        PRODUCT_ID\t\t\tVARCHAR(100) \t\t\t\t\t,\n",
    "        GMO_ID\t\t\tVARCHAR(100) \t\t\t\t\t,\n",
    "        SOURCE_ID\t\t\tVARCHAR(100) \t\t\t\t\t,\n",
    "        TIME_ID\t\t\tVARCHAR(100) \t\t\t\t\t,\n",
    "        CHANNEL_ID\t\t\tVARCHAR(100) \t\t\t\t\t,\n",
    "        COUNTRY_ID\t\t\tVARCHAR(100) \t\t\t\t\t,\n",
    "\t\tCREATED_ON \tTIMESTAMP WITH TIME ZONE \tDEFAULT CURRENT_TIMESTAMP NOT NULL,\n",
    "\t\tCREATED_BY \tVARCHAR(100)\t\t\t\tNOT NULL DEFAULT 'System',\n",
    "\t\tUPDATED_ON \tTIMESTAMP WITH TIME ZONE \tDEFAULT CURRENT_TIMESTAMP NOT NULL,\n",
    "\t\tUPDATED_BY \tVARCHAR(100)\t\t\t\tNOT NULL DEFAULT 'System'\n",
    ");\n",
    "''' \n",
    "  \n",
    "engine.execute(schema_final_string)"
   ]
  },
  {
   "cell_type": "code",
   "execution_count": null,
   "metadata": {},
   "outputs": [],
   "source": []
  },
  {
   "cell_type": "markdown",
   "metadata": {},
   "source": [
    "# Generic schema"
   ]
  },
  {
   "cell_type": "markdown",
   "metadata": {},
   "source": [
    "## PATHOS_CL_TRANSACTION_TABLE"
   ]
  },
  {
   "cell_type": "code",
   "execution_count": 14,
   "metadata": {},
   "outputs": [
    {
     "data": {
      "text/plain": [
       "<sqlalchemy.engine.result.ResultProxy at 0x127b340fe20>"
      ]
     },
     "execution_count": 14,
     "metadata": {},
     "output_type": "execute_result"
    }
   ],
   "source": [
    "schema_final_string='''create table  IF NOT EXISTS pathos_rb_schema.RB_TRANSACTION_TABLE(\n",
    "\t\tPATHOS_TRANSACTION_ID \t\t\t\tNUMERIC \t\t\t\t\tPRIMARY KEY,\n",
    "        review_id    TEXT,\n",
    "\t\tCLIENT_TRANSACTION_ID \t\t\t\tVARCHAR(100) \t\t\t\tUNIQUE,\n",
    "\t\tCLIENT_TRANSACTION_DATE \t\t\tVARCHAR(100) \t\t\t,\n",
    "\t\tMESSAGE_DESC\t\t\t\t\t\tTEXT\t\t\t\t\t,\n",
    "\t\tCOUNTRY \t\t\tVARCHAR(100) \t\t\t,   \n",
    "\t\tCHANNEL \t\t\tVARCHAR(100) \t\t\t,        \n",
    "\t\tBRAND_ID\t\t\t\t\t\tNUMERIC,\n",
    "\t\tMANUFACTURER_ID\t\t\t\t\t\tNUMERIC,\n",
    "        product_id\t\t\t\t\t\tNUMERIC,\n",
    "        gmo_id\t\t\t\t\t\tNUMERIC,\n",
    "        source_id\t\t\t\t\t\tNUMERIC,\n",
    "        time_id\t\t\t\t\t\tNUMERIC,\n",
    "        channel_id NUMERIC,\n",
    "        country_id NUMERIC,\n",
    "        year\t\t\t\t\t\tNUMERIC,\n",
    "        people_score DECIMAL,\n",
    "        process_score DECIMAL,\n",
    "        product_score DECIMAL,\n",
    "        intent_score DECIMAL,\n",
    "        loyalty_score DECIMAL,\n",
    "        values_score DECIMAL,\n",
    "        VERSION_ID VARCHAR(100),\n",
    "        all_pathos   TEXT,\n",
    "\n",
    "\t\tEMOTIONS_SCORE\t\t\t\t\t\tDECIMAL,\n",
    "\t\tDRIVERS_SCORE\t\t\t\t\t\tDECIMAL,\n",
    "\t\tEMOTIONAL_ENGAGEMENT_SCORE\t\t\tDECIMAL,\n",
    "        n_emotional_engagement_score        DECIMAL, \n",
    "        emotional_engagement_quintile       TEXT,\n",
    "\t\n",
    "\t\tEMOTIONS_Surprised_SCORE\t\t\tDECIMAL,\n",
    "\t\tEMOTIONS_Happy_SCORE\t\t\t\tDECIMAL,\n",
    "\t\tEMOTIONS_Excited_SCORE \t\t\t\tDECIMAL,\n",
    "\t\tEMOTIONS_Sad_SCORE\t\t\t\t\tDECIMAL,\n",
    "\t\tEMOTIONS_Disgust_SCORE\t\t\t\tDECIMAL,\t\n",
    "\t\tEMOTIONS_Angry_SCORE\t\t\t\tDECIMAL,\t\n",
    "\t\tEMOTIONS_Fear_SCORE\t\t\t\t\tDECIMAL,\t\t\n",
    "\t\tEMOTIONS_Frustration_SCORE\t\t\tDECIMAL,\n",
    "\n",
    "\t\tDRIVERS_Personalization_SCORE\t\t\t\tDECIMAL,\t\t\n",
    "\t\tDRIVERS_Positivity_SCORE\t\t\t\t\tDECIMAL,\t\t\n",
    "\t\tDRIVERS_Well_being_SCORE\t\t\t\t\tDECIMAL,\t\t\n",
    "\t\tDRIVERS_Exciting_SCORE\t\t\t\t\t    DECIMAL,\t\t\n",
    "\t\tDRIVERS_Belonging_SCORE\t\t\t\t\t    DECIMAL,\t\t\n",
    "\t\tDRIVERS_Sustainability_SCORE\t\t\t\tDECIMAL,\t\t\n",
    "\t\tDRIVERS_Security_SCORE\t\t\t\t\t    DECIMAL,\t\t\n",
    "\t\tDRIVERS_Convenience_SCORE\t\t\t\t\tDECIMAL,\t\t\n",
    "\t\tDRIVERS_Care_SCORE\t\t\t\t\t        DECIMAL,\t\t\n",
    "\t\tDRIVERS_Timeliness_SCORE\t\t\t\t\tDECIMAL,\t\t\n",
    "\t\tDRIVERS_Respect_SCORE\t\t\t\t\t    DECIMAL,\t\t\n",
    "\t\tDRIVERS_Knowledge_SCORE\t\t\t\t\t    DECIMAL,\t\t\n",
    "\t\tDRIVERS_Fairness_SCORE\t\t\t\t\t    DECIMAL,\t\t\n",
    "\t\tDRIVERS_Channel_Satisfaction_SCORE\t\t\tDECIMAL,\t\t\n",
    "\t\tDRIVERS_Outcome_SCORE\t\t\t\t\t    DECIMAL,\t\t\n",
    "\t\tDRIVERS_Communication_SCORE\t\t\t\t\tDECIMAL,\t\t\n",
    "\t\tDRIVERS_Ease_of_access_SCORE\t\t\t\tDECIMAL,\t\t\n",
    "\t\tDRIVERS_Future_issues_SCORE\t\t\t\t\tDECIMAL,\t\t\n",
    "\t\tDRIVERS_Competence_SCORE\t\t\t\t\tDECIMAL,\t\t\n",
    "\t\tDRIVERS_Extra_mile_SCORE\t\t\t\t\tDECIMAL,\t\t\n",
    "\t\tDRIVERS_Waiting_time_SCORE\t\t\t\t\tDECIMAL,\t\t\n",
    "\t\tDRIVERS_Appeal_SCORE\t\t\t\t\t    DECIMAL,\t\t\n",
    "\t\tDRIVERS_Preferred_chanel_SCORE\t\t\t\tDECIMAL,\t\t\n",
    "\t\tDRIVERS_Freshness_SCORE\t\t\t\t\t    DECIMAL,\t\t\n",
    "\t\tDRIVERS_Trust_SCORE\t\t\t\t\t        DECIMAL,\t\t\n",
    "\t\tDRIVERS_Regret_SCORE\t\t\t\t\t    DECIMAL,\t\t\n",
    "\t\tDRIVERS_Relationship_SCORE\t\t\t\t\tDECIMAL,\t\t\n",
    "\t\tDRIVERS_Innovative_SCORE\t\t\t\t\tDECIMAL,\t\t\n",
    "\t\tDRIVERS_Value_for_Money_SCORE\t\t\t\tDECIMAL,\t\t\n",
    "\t\tDRIVERS_Packaging_SCORE\t\t\t\t\t    DECIMAL,\t\t\n",
    "        analysis_completed BOOLEAN DEFAULT FALSE,\n",
    "\t\n",
    "\t\tBEHAVIOUR_ENABLERL_POSITIVE_SCORE\tDECIMAL,\n",
    "\t\tBEHAVIOUR_QUAL_POSITIVE_COMMENTS\t\tVARCHAR(4000),\n",
    "\t\tBEHAVIOUR_ENABLERL_NEGATIVE_SCORE\tDECIMAL,\t\n",
    "\t\tBEHAVIOUR_QUAL_NEGATIVE_COMMENTS\t\tVARCHAR(4000),\t\n",
    "\t\n",
    "\t\tBEHAVIOUR_SCORE\t\t\t\t\t\tDECIMAL,\n",
    "\t\tPOSITIVE_SCORE_BY_WEIGHTS\t\t\tDECIMAL,\t\n",
    "\t\tNEGATIVE_SCORE_BY_WEIGHTS\t\t\tDECIMAL,\n",
    "        \n",
    "        DATE TIMESTAMP WITHOUT TIME ZONE,\n",
    "\n",
    "\t\tCREATED_ON \tTIMESTAMP WITH TIME ZONE \tDEFAULT CURRENT_TIMESTAMP NOT NULL,\n",
    "\t\tCREATED_BY \tVARCHAR(100)\t\t\t\tNOT NULL DEFAULT 'System',\n",
    "\t\tUPDATED_ON \tTIMESTAMP WITH TIME ZONE \tDEFAULT CURRENT_TIMESTAMP NOT NULL,\n",
    "\t\tUPDATED_BY \tVARCHAR(100)\t\t\t\tNOT NULL DEFAULT 'System'\n",
    ");\n",
    "''' \n",
    "    \n",
    "engine.execute(schema_final_string)"
   ]
  },
  {
   "cell_type": "markdown",
   "metadata": {},
   "source": [
    "## PATHOS_CL_SUMMARY_TABLE"
   ]
  },
  {
   "cell_type": "code",
   "execution_count": 15,
   "metadata": {},
   "outputs": [
    {
     "data": {
      "text/plain": [
       "<sqlalchemy.engine.result.ResultProxy at 0x127b343f6d0>"
      ]
     },
     "execution_count": 15,
     "metadata": {},
     "output_type": "execute_result"
    }
   ],
   "source": [
    "schema_final_string='''create table  IF NOT EXISTS pathos_rb_schema.RB_SUMMARY_TABLE(\n",
    "\t\tPATHOS_SUMMARY_ID \t\t\t\tNUMERIC \t\t\t\t\tPRIMARY KEY,\n",
    "        review_id    TEXT,\n",
    "\t\tCLIENT_TRANSACTION_ID \t\t\t\tVARCHAR(100) \t\t\t\tUNIQUE,\n",
    "\t\tCLIENT_TRANSACTION_DATE \t\t\tVARCHAR(100) \t\t\t,\n",
    "\t\tMESSAGE_DESC\t\t\t\t\t\tTEXT\t\t\t\t\t,\n",
    "\t\tCOUNTRY \t\t\tVARCHAR(100) \t\t\t,   \n",
    "\t\tCHANNEL \t\t\tVARCHAR(100) \t\t\t,          \n",
    "\t\tBRAND_ID\t\t\t\t\t\tNUMERIC,\n",
    "\t\tMANUFACTURER_ID\t\t\t\t\t\tNUMERIC,\n",
    "        product_id\t\t\t\t\t\tNUMERIC,\n",
    "        gmo_id\t\t\t\t\t\tNUMERIC,\n",
    "        source_id\t\t\t\t\t\tNUMERIC,\n",
    "        time_id\t\t\t\t\t\tNUMERIC,\n",
    "        year\t\t\t\t\t\tNUMERIC,\n",
    "        channel_id NUMERIC,\n",
    "        country_id NUMERIC,\n",
    "        people_score DECIMAL,\n",
    "        process_score DECIMAL,\n",
    "        product_score DECIMAL,\n",
    "        intent_score DECIMAL,\n",
    "        loyalty_score DECIMAL,\n",
    "        values_score DECIMAL,\n",
    "        VERSION_ID VARCHAR(100),\n",
    "        all_pathos   TEXT,\n",
    "        brand   TEXT,\n",
    "        manufacturer   TEXT,\n",
    "        gmo   TEXT,\n",
    "        product   TEXT,\n",
    "        version   TEXT,\n",
    "        source   TEXT,\n",
    "\n",
    "\t\tEMOTIONS_SCORE\t\t\t\t\t\tDECIMAL,\n",
    "\t\tDRIVERS_SCORE\t\t\t\t\t\tDECIMAL,\n",
    "\t\tEMOTIONAL_ENGAGEMENT_SCORE\t\t\tDECIMAL,\n",
    "        n_emotional_engagement_score        DECIMAL, \n",
    "        emotional_engagement_quintile       TEXT,\n",
    "\t\n",
    "\t\tEMOTIONS_Surprised_SCORE\t\t\tDECIMAL NOT NULL DEFAULT 0,\n",
    "\t\tEMOTIONS_Happy_SCORE\t\t\t\tDECIMAL NOT NULL DEFAULT 0,\n",
    "\t\tEMOTIONS_Excited_SCORE \t\t\t\tDECIMAL NOT NULL DEFAULT 0,\n",
    "\t\tEMOTIONS_Sad_SCORE\t\t\t\t\tDECIMAL NOT NULL DEFAULT 0,\n",
    "\t\tEMOTIONS_Disgust_SCORE\t\t\t\tDECIMAL NOT NULL DEFAULT 0,\t\n",
    "\t\tEMOTIONS_Angry_SCORE\t\t\t\tDECIMAL NOT NULL DEFAULT 0,\t\n",
    "\t\tEMOTIONS_Fear_SCORE\t\t\t\t\tDECIMAL NOT NULL DEFAULT 0,\t\t\n",
    "\t\tEMOTIONS_Frustration_SCORE\t\t\tDECIMAL NOT NULL DEFAULT 0,\n",
    "\n",
    "\t\tDRIVERS_Personalization_SCORE\t\t\t\tDECIMAL NOT NULL DEFAULT 0,\t\t\n",
    "\t\tDRIVERS_Positivity_SCORE\t\t\t\t\tDECIMAL NOT NULL DEFAULT 0,\t\t\n",
    "\t\tDRIVERS_Well_being_SCORE\t\t\t\t\tDECIMAL NOT NULL DEFAULT 0,\t\t\n",
    "\t\tDRIVERS_Exciting_SCORE\t\t\t\t\t    DECIMAL NOT NULL DEFAULT 0,\t\t\n",
    "\t\tDRIVERS_Belonging_SCORE\t\t\t\t\t    DECIMAL NOT NULL DEFAULT 0,\t\t\n",
    "\t\tDRIVERS_Sustainability_SCORE\t\t\t\tDECIMAL NOT NULL DEFAULT 0,\t\t\n",
    "\t\tDRIVERS_Security_SCORE\t\t\t\t\t    DECIMAL NOT NULL DEFAULT 0,\t\t\n",
    "\t\tDRIVERS_Convenience_SCORE\t\t\t\t\tDECIMAL NOT NULL DEFAULT 0,\t\t\n",
    "\t\tDRIVERS_Care_SCORE\t\t\t\t\t        DECIMAL NOT NULL DEFAULT 0,\t\t\n",
    "\t\tDRIVERS_Timeliness_SCORE\t\t\t\t\tDECIMAL NOT NULL DEFAULT 0,\t\t\n",
    "\t\tDRIVERS_Respect_SCORE\t\t\t\t\t    DECIMAL NOT NULL DEFAULT 0,\t\t\n",
    "\t\tDRIVERS_Knowledge_SCORE\t\t\t\t\t    DECIMAL NOT NULL DEFAULT 0,\t\t\n",
    "\t\tDRIVERS_Fairness_SCORE\t\t\t\t\t    DECIMAL NOT NULL DEFAULT 0,\t\t\n",
    "\t\tDRIVERS_Channel_Satisfaction_SCORE\t\t\tDECIMAL NOT NULL DEFAULT 0,\t\t\n",
    "\t\tDRIVERS_Outcome_SCORE\t\t\t\t\t    DECIMAL NOT NULL DEFAULT 0,\t\t\n",
    "\t\tDRIVERS_Communication_SCORE\t\t\t\t\tDECIMAL NOT NULL DEFAULT 0,\t\t\n",
    "\t\tDRIVERS_Ease_of_access_SCORE\t\t\t\tDECIMAL NOT NULL DEFAULT 0,\t\t\n",
    "\t\tDRIVERS_Future_issues_SCORE\t\t\t\t\tDECIMAL NOT NULL DEFAULT 0,\t\t\n",
    "\t\tDRIVERS_Competence_SCORE\t\t\t\t\tDECIMAL NOT NULL DEFAULT 0,\t\t\n",
    "\t\tDRIVERS_Extra_mile_SCORE\t\t\t\t\tDECIMAL NOT NULL DEFAULT 0,\t\t\n",
    "\t\tDRIVERS_Waiting_time_SCORE\t\t\t\t\tDECIMAL NOT NULL DEFAULT 0,\t\t\n",
    "\t\tDRIVERS_Appeal_SCORE\t\t\t\t\t    DECIMAL NOT NULL DEFAULT 0,\t\t\n",
    "\t\tDRIVERS_Preferred_chanel_SCORE\t\t\t\tDECIMAL NOT NULL DEFAULT 0,\t\t\n",
    "\t\tDRIVERS_Freshness_SCORE\t\t\t\t\t    DECIMAL NOT NULL DEFAULT 0,\t\t\n",
    "\t\tDRIVERS_Trust_SCORE\t\t\t\t\t        DECIMAL NOT NULL DEFAULT 0,\t\t\n",
    "\t\tDRIVERS_Regret_SCORE\t\t\t\t\t    DECIMAL NOT NULL DEFAULT 0,\t\t\n",
    "\t\tDRIVERS_Relationship_SCORE\t\t\t\t\tDECIMAL NOT NULL DEFAULT 0,\t\t\n",
    "\t\tDRIVERS_Innovative_SCORE\t\t\t\t\tDECIMAL NOT NULL DEFAULT 0,\t\t\n",
    "\t\tDRIVERS_Value_for_Money_SCORE\t\t\t\tDECIMAL NOT NULL DEFAULT 0,\t\t\n",
    "\t\tDRIVERS_Packaging_SCORE\t\t\t\t\t    DECIMAL NOT NULL DEFAULT 0,\t\t\n",
    "\n",
    "\t\n",
    "\t\tBEHAVIOUR_ENABLERL_POSITIVE_SCORE\tDECIMAL,\n",
    "\t\tBEHAVIOUR_QUAL_POSITIVE_COMMENTS\t\tVARCHAR(4000),\n",
    "\t\tBEHAVIOUR_ENABLERL_NEGATIVE_SCORE\tDECIMAL,\t\n",
    "\t\tBEHAVIOUR_QUAL_NEGATIVE_COMMENTS\t\tVARCHAR(4000),\t\n",
    "\t\n",
    "\t\tBEHAVIOUR_SCORE\t\t\t\t\t\tDECIMAL,\n",
    "\t\tPOSITIVE_SCORE_BY_WEIGHTS\t\t\tDECIMAL,\t\n",
    "\t\tNEGATIVE_SCORE_BY_WEIGHTS\t\t\tDECIMAL,\n",
    "        PREDICTED_DRIVER\t\t\tTEXT,\n",
    "        predicted_driver_ppp TEXT,\n",
    "        predicted_driver_ilv TEXT,\n",
    "        \n",
    "        DATE TIMESTAMP WITHOUT TIME ZONE,\n",
    "\n",
    "\t\tCREATED_ON \tTIMESTAMP WITH TIME ZONE \tDEFAULT CURRENT_TIMESTAMP NOT NULL,\n",
    "\t\tCREATED_BY \tVARCHAR(100)\t\t\t\tNOT NULL DEFAULT 'System',\n",
    "\t\tUPDATED_ON \tTIMESTAMP WITH TIME ZONE \tDEFAULT CURRENT_TIMESTAMP NOT NULL,\n",
    "\t\tUPDATED_BY \tVARCHAR(100)\t\t\t\tNOT NULL DEFAULT 'System'\n",
    ");\n",
    "''' \n",
    "    \n",
    "engine.execute(schema_final_string)"
   ]
  },
  {
   "cell_type": "code",
   "execution_count": 16,
   "metadata": {},
   "outputs": [
    {
     "ename": "NameError",
     "evalue": "name 'x' is not defined",
     "output_type": "error",
     "traceback": [
      "\u001b[1;31m---------------------------------------------------------------------------\u001b[0m",
      "\u001b[1;31mNameError\u001b[0m                                 Traceback (most recent call last)",
      "\u001b[1;32m<ipython-input-16-82934ca933ee>\u001b[0m in \u001b[0;36m<module>\u001b[1;34m\u001b[0m\n\u001b[1;32m----> 1\u001b[1;33m \u001b[1;33m-\u001b[0m\u001b[0mx\u001b[0m\u001b[1;33m-\u001b[0m\u001b[0mx\u001b[0m\u001b[1;33m-\u001b[0m\u001b[0mx\u001b[0m\u001b[1;33m-\u001b[0m\u001b[0mx\u001b[0m\u001b[1;33m-\u001b[0m\u001b[0mx\u001b[0m\u001b[1;33m-\u001b[0m\u001b[0mx\u001b[0m\u001b[1;33m-\u001b[0m\u001b[0mx\u001b[0m\u001b[1;33m-\u001b[0m\u001b[0mx\u001b[0m\u001b[1;33m-\u001b[0m\u001b[0mx\u001b[0m\u001b[1;33m-\u001b[0m\u001b[0mx\u001b[0m\u001b[1;33m-\u001b[0m\u001b[0mx\u001b[0m\u001b[1;33m-\u001b[0m\u001b[0mxx\u001b[0m\u001b[1;33m-\u001b[0m\u001b[0mx\u001b[0m\u001b[1;33m-\u001b[0m\u001b[0mx\u001b[0m\u001b[1;33m-\u001b[0m\u001b[0mx\u001b[0m\u001b[1;33m-\u001b[0m\u001b[0mx\u001b[0m\u001b[1;33m-\u001b[0m\u001b[0mx\u001b[0m\u001b[1;33m-\u001b[0m\u001b[0mx\u001b[0m\u001b[1;33m\u001b[0m\u001b[1;33m\u001b[0m\u001b[0m\n\u001b[0m",
      "\u001b[1;31mNameError\u001b[0m: name 'x' is not defined"
     ]
    }
   ],
   "source": [
    "import os\n",
    "os.system('jupyter nbconvert --to python set_rb_table_schema.ipynb')"
   ]
  }
 ],
 "metadata": {
  "kernelspec": {
   "display_name": "Python 3",
   "language": "python",
   "name": "python3"
  },
  "language_info": {
   "codemirror_mode": {
    "name": "ipython",
    "version": 3
   },
   "file_extension": ".py",
   "mimetype": "text/x-python",
   "name": "python",
   "nbconvert_exporter": "python",
   "pygments_lexer": "ipython3",
   "version": "3.8.5"
  },
  "toc": {
   "base_numbering": 1,
   "nav_menu": {},
   "number_sections": true,
   "sideBar": true,
   "skip_h1_title": false,
   "title_cell": "Table of Contents",
   "title_sidebar": "Contents",
   "toc_cell": false,
   "toc_position": {},
   "toc_section_display": true,
   "toc_window_display": false
  }
 },
 "nbformat": 4,
 "nbformat_minor": 4
}
