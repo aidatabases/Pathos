{
 "cells": [
  {
   "cell_type": "code",
   "execution_count": 1,
   "metadata": {},
   "outputs": [],
   "source": [
    "from pathos_config import *"
   ]
  },
  {
   "cell_type": "markdown",
   "metadata": {},
   "source": [
    "# Query from Google Sheet"
   ]
  },
  {
   "cell_type": "markdown",
   "metadata": {},
   "source": [
    "## Dimension google sheet"
   ]
  },
  {
   "cell_type": "code",
   "execution_count": 2,
   "metadata": {
    "scrolled": false
   },
   "outputs": [
    {
     "name": "stdout",
     "output_type": "stream",
     "text": [
      "Reference DataFrame: pathos_cl_master_dim_mapping\n",
      "Reference DataFrame: pathos_cl_master_manufacturer\n",
      "Reference DataFrame: pathos_cl_master_brand\n",
      "Reference DataFrame: pathos_cl_master_prod_ver\n",
      "Reference DataFrame: pathos_cl_master_time\n",
      "Reference DataFrame: pathos_cl_master_product\n",
      "Reference DataFrame: pathos_cl_master_gmo\n",
      "Reference DataFrame: pathos_cl_master_source\n",
      "Reference DataFrame: pathos_cl_master_channel\n",
      "Reference DataFrame: pathos_cl_master_country\n",
      "Reference DataFrame: pathos_cl_master_personas\n"
     ]
    }
   ],
   "source": [
    "for i in range(len(dim_table_list_rb)):\n",
    "    sample_var1 = dim_table_list_rb[i]\n",
    "    sample_var2 = dim_table_list_rb[i]\n",
    "    print(\"Reference DataFrame: {}\".format(sample_var1, sample_var2))\n",
    "    vars()[sample_var2]= load_gsheet(dim_table_list_rb[i], dim_table_list_rb[i], sheet_id_rb)"
   ]
  },
  {
   "cell_type": "markdown",
   "metadata": {},
   "source": [
    "## Dimension tables"
   ]
  },
  {
   "cell_type": "code",
   "execution_count": 6,
   "metadata": {},
   "outputs": [],
   "source": [
    "# # Truncate\n",
    "# try:\n",
    "#     for i in dim_table_list_rb:\n",
    "#         print(i)\n",
    "#         truncate_table(i, 'pathos_rb_schema')\n",
    "# except:\n",
    "#     print('not available')"
   ]
  },
  {
   "cell_type": "code",
   "execution_count": 8,
   "metadata": {
    "scrolled": false
   },
   "outputs": [
    {
     "name": "stdout",
     "output_type": "stream",
     "text": [
      "pathos_cl_master_dim_mapping\n",
      "pathos_cl_master_manufacturer\n",
      "pathos_cl_master_brand\n",
      "pathos_cl_master_prod_ver\n",
      "pathos_cl_master_time\n",
      "pathos_cl_master_product\n",
      "pathos_cl_master_gmo\n",
      "pathos_cl_master_source\n",
      "pathos_cl_master_channel\n",
      "pathos_cl_master_country\n",
      "pathos_cl_master_personas\n"
     ]
    }
   ],
   "source": [
    "# Push\n",
    "for i, j in zip(range(len(dim_table_list_rb)), dim_table_list_rb):\n",
    "    sample_var = dim_table_list_rb[i]\n",
    "    print(sample_var)\n",
    "    push_table_pgres(df = vars()[sample_var],df_name = j, schema= 'pathos_rb_schema')"
   ]
  },
  {
   "cell_type": "code",
   "execution_count": 1,
   "metadata": {},
   "outputs": [
    {
     "data": {
      "text/plain": [
       "0"
      ]
     },
     "execution_count": 1,
     "metadata": {},
     "output_type": "execute_result"
    }
   ],
   "source": [
    "import os\n",
    "os.system('jupyter nbconvert --to python load_rb_dim.ipynb')"
   ]
  },
  {
   "cell_type": "code",
   "execution_count": null,
   "metadata": {},
   "outputs": [],
   "source": []
  }
 ],
 "metadata": {
  "kernelspec": {
   "display_name": "Python 3",
   "language": "python",
   "name": "python3"
  },
  "language_info": {
   "codemirror_mode": {
    "name": "ipython",
    "version": 3
   },
   "file_extension": ".py",
   "mimetype": "text/x-python",
   "name": "python",
   "nbconvert_exporter": "python",
   "pygments_lexer": "ipython3",
   "version": "3.8.5"
  },
  "toc": {
   "base_numbering": 1,
   "nav_menu": {},
   "number_sections": true,
   "sideBar": true,
   "skip_h1_title": false,
   "title_cell": "Table of Contents",
   "title_sidebar": "Contents",
   "toc_cell": false,
   "toc_position": {},
   "toc_section_display": true,
   "toc_window_display": false
  }
 },
 "nbformat": 4,
 "nbformat_minor": 4
}
